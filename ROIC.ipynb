{
 "cells": [
  {
   "cell_type": "markdown",
   "id": "09d50a31",
   "metadata": {},
   "source": [
    "# ROIC\n",
    "Inputs for financial figures should be provided in millions (e.g., 15 for $15,000,000).\n",
    "The tax rate should be a decimal (e.g., 0.21 for 21%).\n",
    "\n",
    "ROIC = NOPAT / Invested Capital\n"
   ]
  },
  {
   "cell_type": "markdown",
   "id": "ab7f188c",
   "metadata": {},
   "source": [
    "### Inputs"
   ]
  },
  {
   "cell_type": "code",
   "execution_count": 5,
   "id": "a1aa12c1",
   "metadata": {},
   "outputs": [],
   "source": [
    "input_operating_income_mil = 15      # e.g., $15 million\n",
    "input_tax_rate = 0.21                # e.g., 21%\n",
    "input_total_debt_mil = 50            # e.g., $50 million\n",
    "input_total_equity_mil = 80           # e.g., $80 million\n",
    "input_lease_liabilities_mil = 10      # e.g., $10 million\n",
    "input_cash_equivalents_mil = 5        # e.g., $5 million"
   ]
  },
  {
   "cell_type": "code",
   "execution_count": 6,
   "id": "bf19a670",
   "metadata": {},
   "outputs": [
    {
     "name": "stdout",
     "output_type": "stream",
     "text": [
      "--- ROIC ---\n",
      "Inputs (Millions): OpInc=15, Debt=50, Equity=80, Leases=10, Cash=5, TaxRate=21.00%\n",
      "Calculated NOPAT: $11,850,000.00\n",
      "Calculated Invested Capital: $135,000,000.00\n",
      "Calculated ROIC: 8.78%\n"
     ]
    }
   ],
   "source": [
    "# Constant for converting millions to absolute values\n",
    "MILLION = 1_000_000\n",
    "\n",
    "def calculate_roic(\n",
    "    operating_income_mil: float, # Input in millions\n",
    "    tax_rate: float,\n",
    "    total_debt_mil: float,       # Input in millions\n",
    "    total_equity_mil: float,     # Input in millions\n",
    "    operating_lease_liabilities_mil: float, # Input in millions\n",
    "    cash_equivalents_mil: float  # Input in millions\n",
    ") -> float:\n",
    "    \"\"\"\n",
    "    Calculates the Return on Invested Capital (ROIC), including operating leases.\n",
    "    Accepts financial inputs in millions.\n",
    "\n",
    "    Args:\n",
    "        operating_income_mil (float): The company's operating income (or EBIT), in millions.\n",
    "        tax_rate (float): The company's effective tax rate (as a decimal, e.g., 0.25 for 25%).\n",
    "        total_debt_mil (float): The company's total interest-bearing debt, in millions.\n",
    "        total_equity_mil (float): The company's total shareholders' equity, in millions.\n",
    "        operating_lease_liabilities_mil (float): The present value of operating lease liabilities, in millions.\n",
    "        cash_equivalents_mil (float): The company's cash and cash equivalents, in millions.\n",
    "\n",
    "    Returns:\n",
    "        float | str: The calculated ROIC as a percentage, or an error message\n",
    "                     if Invested Capital is zero or negative.\n",
    "    \"\"\"\n",
    "    # Validate tax rate\n",
    "    if not 0 <= tax_rate <= 1:\n",
    "        return \"Error: Tax rate must be between 0 and 1 (e.g., 0.25 for 25%).\"\n",
    "\n",
    "    # Convert inputs from millions to absolute values for calculation\n",
    "    operating_income = operating_income_mil * MILLION\n",
    "    total_debt = total_debt_mil * MILLION\n",
    "    total_equity = total_equity_mil * MILLION\n",
    "    operating_lease_liabilities = operating_lease_liabilities_mil * MILLION\n",
    "    cash_equivalents = cash_equivalents_mil * MILLION\n",
    "\n",
    "    # Calculate NOPAT (Net Operating Profit After Tax)\n",
    "    # Note: Some analysts also adjust Operating Income for imputed interest on leases,\n",
    "    # but for simplicity, we are keeping NOPAT based on reported Operating Income here.\n",
    "    nopat = operating_income * (1 - tax_rate)\n",
    "\n",
    "    # Calculate Invested Capital (including operating lease liabilities)\n",
    "    # Formula: Total Debt + Total Equity + Operating Lease Liabilities - Cash & Cash Equivalents\n",
    "    invested_capital = total_debt + total_equity + operating_lease_liabilities - cash_equivalents\n",
    "\n",
    "    # Check for zero or negative invested capital to avoid division errors\n",
    "    if invested_capital <= 0:\n",
    "        # Display the problematic invested capital value (calculated from millions input)\n",
    "        return f\"Error: Invested Capital is zero or negative (${invested_capital:,.2f}). Cannot calculate ROIC.\"\n",
    "\n",
    "    # Calculate ROIC\n",
    "    # The scaling factor (MILLION) cancels out, so the percentage is correct.\n",
    "    roic = (nopat / invested_capital) * 100 # Multiply by 100 to express as a percentage\n",
    "\n",
    "    return roic\n",
    "\n",
    "company_roic = calculate_roic(\n",
    "    operating_income_mil=input_operating_income_mil,\n",
    "    tax_rate=input_tax_rate,\n",
    "    total_debt_mil=input_total_debt_mil,\n",
    "    total_equity_mil=input_total_equity_mil,\n",
    "    operating_lease_liabilities_mil=input_lease_liabilities_mil,\n",
    "    cash_equivalents_mil=input_cash_equivalents_mil\n",
    ")\n",
    "\n",
    "print(\"--- ROIC ---\")\n",
    "if isinstance(company_roic, str):\n",
    "    # Print error message\n",
    "    print(company_roic)\n",
    "else:\n",
    "    # Calculate components in absolute values for clarity in printing\n",
    "    nopat_calc = (input_operating_income_mil * MILLION) * (1 - input_tax_rate)\n",
    "    invested_capital_calc = (input_total_debt_mil * MILLION) + \\\n",
    "                              (input_total_equity_mil * MILLION) + \\\n",
    "                              (input_lease_liabilities_mil * MILLION) - \\\n",
    "                              (input_cash_equivalents_mil * MILLION)\n",
    "    # Print the calculated ROIC, formatted to two decimal places\n",
    "    print(f\"Inputs (Millions): OpInc={input_operating_income_mil}, Debt={input_total_debt_mil}, Equity={input_total_equity_mil}, Leases={input_lease_liabilities_mil}, Cash={input_cash_equivalents_mil}, TaxRate={input_tax_rate:.2%}\")\n",
    "    print(f\"Calculated NOPAT: ${nopat_calc:,.2f}\")\n",
    "    print(f\"Calculated Invested Capital: ${invested_capital_calc:,.2f}\")\n",
    "    print(f\"Calculated ROIC: {company_roic:.2f}%\")\n"
   ]
  }
 ],
 "metadata": {
  "kernelspec": {
   "display_name": "Python 3",
   "language": "python",
   "name": "python3"
  },
  "language_info": {
   "codemirror_mode": {
    "name": "ipython",
    "version": 3
   },
   "file_extension": ".py",
   "mimetype": "text/x-python",
   "name": "python",
   "nbconvert_exporter": "python",
   "pygments_lexer": "ipython3",
   "version": "3.9.6"
  }
 },
 "nbformat": 4,
 "nbformat_minor": 5
}
